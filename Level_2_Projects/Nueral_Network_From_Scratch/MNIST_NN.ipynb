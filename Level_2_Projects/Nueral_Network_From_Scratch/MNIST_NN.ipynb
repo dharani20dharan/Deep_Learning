{
 "cells": [
  {
   "cell_type": "markdown",
   "id": "f49f6903-14c3-42c6-b412-fcaa7b5b45ac",
   "metadata": {},
   "source": [
    "# Neural Network from Scratch for Handwritten Digit Classification\n",
    "\n",
    "## Project Overview\n",
    "This project implements a simple neural network from scratch using **NumPy** to classify handwritten digits from the MNIST-style dataset (`train.csv`). No deep learning frameworks like TensorFlow or PyTorch are used, demonstrating the fundamentals of:\n",
    "\n",
    "- Data preprocessing and normalization\n",
    "- Weight initialization\n",
    "- Forward propagation (ReLU and Softmax)\n",
    "- Backward propagation and gradient computation\n",
    "- Parameter updates with gradient descent\n",
    "- One-hot encoding for multi-class classification\n",
    "- Accuracy evaluation on training and development sets\n",
    "\n",
    "The goal of this project is to understand the inner workings of neural networks, explore the impact of proper weight initialization, and verify predictions visually by plotting sample images with their predicted and true labels.\n"
   ]
  },
  {
   "cell_type": "code",
   "execution_count": 4,
   "id": "4201473e-5858-4882-b783-7d1b7c2fcc05",
   "metadata": {},
   "outputs": [],
   "source": [
    "import numpy as np\n",
    "import pandas as pd\n",
    "import matplotlib.pyplot as plt\n"
   ]
  },
  {
   "cell_type": "code",
   "execution_count": 6,
   "id": "de4c6968-19eb-4897-b836-cb4870ab58b7",
   "metadata": {},
   "outputs": [],
   "source": [
    "\n",
    "# ==========================\n",
    "# Load and preprocess data\n",
    "# ==========================\n",
    "data = pd.read_csv('train.csv').to_numpy()\n",
    "np.random.shuffle(data)\n",
    "\n",
    "# Split into development and training sets\n",
    "data_dev = data[:1000].T\n",
    "Y_dev = data_dev[0]\n",
    "X_dev = data_dev[1:] / 255.0\n",
    "\n",
    "data_train = data[1000:].T\n",
    "Y_train = data_train[0]\n",
    "X_train = data_train[1:] / 255.0\n"
   ]
  },
  {
   "cell_type": "code",
   "execution_count": 8,
   "id": "5d6fc43a-c9ef-4926-9aac-179341df0224",
   "metadata": {},
   "outputs": [],
   "source": [
    "\n",
    "# ==========================\n",
    "# Neural Network Utilities\n",
    "# ==========================\n",
    "def init_params(input_dim=784, hidden_dim=10, output_dim=10):\n",
    "    W1 = np.random.randn(hidden_dim, input_dim) * np.sqrt(1./input_dim)\n",
    "    b1 = np.zeros((hidden_dim, 1))\n",
    "    W2 = np.random.randn(output_dim, hidden_dim) * np.sqrt(1./hidden_dim)\n",
    "    b2 = np.zeros((output_dim, 1))\n",
    "    return W1, b1, W2, b2\n",
    "\n",
    "def ReLU(Z):\n",
    "    return np.maximum(0, Z)\n",
    "\n",
    "def ReLU_deriv(Z):\n",
    "    return Z > 0\n",
    "\n",
    "def softmax(Z):\n",
    "    expZ = np.exp(Z - np.max(Z, axis=0, keepdims=True))\n",
    "    return expZ / expZ.sum(axis=0, keepdims=True)\n",
    "\n",
    "def one_hot(Y, num_classes=10):\n",
    "    Y_one_hot = np.zeros((num_classes, Y.size))\n",
    "    Y_one_hot[Y, np.arange(Y.size)] = 1\n",
    "    return Y_one_hot\n"
   ]
  },
  {
   "cell_type": "code",
   "execution_count": 10,
   "id": "0831e0a1-e326-4985-a0a2-c50a69b6f7f7",
   "metadata": {},
   "outputs": [],
   "source": [
    "\n",
    "# ==========================\n",
    "# Forward and Backward Propagation\n",
    "# ==========================\n",
    "def forward_prop(W1, b1, W2, b2, X):\n",
    "    Z1 = W1.dot(X) + b1\n",
    "    A1 = ReLU(Z1)\n",
    "    Z2 = W2.dot(A1) + b2\n",
    "    A2 = softmax(Z2)\n",
    "    return Z1, A1, Z2, A2\n",
    "\n",
    "def backward_prop(Z1, A1, Z2, A2, W2, X, Y):\n",
    "    m = X.shape[1]\n",
    "    Y_one_hot = one_hot(Y)\n",
    "    \n",
    "    dZ2 = A2 - Y_one_hot\n",
    "    dW2 = (1/m) * dZ2.dot(A1.T)\n",
    "    db2 = (1/m) * np.sum(dZ2, axis=1, keepdims=True)\n",
    "    \n",
    "    dZ1 = W2.T.dot(dZ2) * ReLU_deriv(Z1)\n",
    "    dW1 = (1/m) * dZ1.dot(X.T)\n",
    "    db1 = (1/m) * np.sum(dZ1, axis=1, keepdims=True)\n",
    "    \n",
    "    return dW1, db1, dW2, db2\n",
    "\n",
    "def update_params(W1, b1, W2, b2, dW1, db1, dW2, db2, alpha):\n",
    "    W1 -= alpha * dW1\n",
    "    b1 -= alpha * db1\n",
    "    W2 -= alpha * dW2\n",
    "    b2 -= alpha * db2\n",
    "    return W1, b1, W2, b2\n"
   ]
  },
  {
   "cell_type": "code",
   "execution_count": 12,
   "id": "0da4ae97-015a-4549-b872-ed3ca496823e",
   "metadata": {},
   "outputs": [],
   "source": [
    "\n",
    "# ==========================\n",
    "# Predictions and Accuracy\n",
    "# ==========================\n",
    "def get_predictions(A2):\n",
    "    return np.argmax(A2, axis=0)\n",
    "\n",
    "def get_accuracy(preds, Y):\n",
    "    return np.mean(preds == Y)\n"
   ]
  },
  {
   "cell_type": "code",
   "execution_count": 14,
   "id": "aaf53ca2-9cb4-48d0-8375-c3ade562bf03",
   "metadata": {},
   "outputs": [
    {
     "name": "stdout",
     "output_type": "stream",
     "text": [
      "Iteration 0, Accuracy: 0.0896\n",
      "Iteration 10, Accuracy: 0.3331\n",
      "Iteration 20, Accuracy: 0.5760\n",
      "Iteration 30, Accuracy: 0.6830\n",
      "Iteration 40, Accuracy: 0.7497\n",
      "Iteration 50, Accuracy: 0.7808\n",
      "Iteration 60, Accuracy: 0.8028\n",
      "Iteration 70, Accuracy: 0.8197\n",
      "Iteration 80, Accuracy: 0.8324\n",
      "Iteration 90, Accuracy: 0.8412\n",
      "Iteration 100, Accuracy: 0.8488\n",
      "Iteration 110, Accuracy: 0.8528\n",
      "Iteration 120, Accuracy: 0.8567\n",
      "Iteration 130, Accuracy: 0.8602\n",
      "Iteration 140, Accuracy: 0.8638\n",
      "Iteration 150, Accuracy: 0.8665\n",
      "Iteration 160, Accuracy: 0.8687\n",
      "Iteration 170, Accuracy: 0.8706\n",
      "Iteration 180, Accuracy: 0.8722\n",
      "Iteration 190, Accuracy: 0.8742\n",
      "Iteration 200, Accuracy: 0.8760\n",
      "Iteration 210, Accuracy: 0.8775\n",
      "Iteration 220, Accuracy: 0.8794\n",
      "Iteration 230, Accuracy: 0.8810\n",
      "Iteration 240, Accuracy: 0.8822\n",
      "Iteration 250, Accuracy: 0.8831\n",
      "Iteration 260, Accuracy: 0.8840\n",
      "Iteration 270, Accuracy: 0.8851\n",
      "Iteration 280, Accuracy: 0.8860\n",
      "Iteration 290, Accuracy: 0.8867\n",
      "Iteration 300, Accuracy: 0.8871\n",
      "Iteration 310, Accuracy: 0.8880\n",
      "Iteration 320, Accuracy: 0.8889\n",
      "Iteration 330, Accuracy: 0.8894\n",
      "Iteration 340, Accuracy: 0.8901\n",
      "Iteration 350, Accuracy: 0.8907\n",
      "Iteration 360, Accuracy: 0.8913\n",
      "Iteration 370, Accuracy: 0.8920\n",
      "Iteration 380, Accuracy: 0.8922\n",
      "Iteration 390, Accuracy: 0.8930\n",
      "Iteration 400, Accuracy: 0.8935\n",
      "Iteration 410, Accuracy: 0.8942\n",
      "Iteration 420, Accuracy: 0.8947\n",
      "Iteration 430, Accuracy: 0.8955\n",
      "Iteration 440, Accuracy: 0.8961\n",
      "Iteration 450, Accuracy: 0.8967\n",
      "Iteration 460, Accuracy: 0.8971\n",
      "Iteration 470, Accuracy: 0.8976\n",
      "Iteration 480, Accuracy: 0.8981\n",
      "Iteration 490, Accuracy: 0.8988\n"
     ]
    }
   ],
   "source": [
    "\n",
    "# ==========================\n",
    "# Training Function\n",
    "# ==========================\n",
    "def gradient_descent(X, Y, alpha=0.1, iterations=500):\n",
    "    W1, b1, W2, b2 = init_params()\n",
    "    for i in range(iterations):\n",
    "        Z1, A1, Z2, A2 = forward_prop(W1, b1, W2, b2, X)\n",
    "        dW1, db1, dW2, db2 = backward_prop(Z1, A1, Z2, A2, W2, X, Y)\n",
    "        W1, b1, W2, b2 = update_params(W1, b1, W2, b2, dW1, db1, dW2, db2, alpha)\n",
    "        \n",
    "        if i % 10 == 0:\n",
    "            acc = get_accuracy(get_predictions(A2), Y)\n",
    "            print(f\"Iteration {i}, Accuracy: {acc:.4f}\")\n",
    "    return W1, b1, W2, b2\n",
    "\n",
    "# ==========================\n",
    "# Train the model\n",
    "# ==========================\n",
    "W1, b1, W2, b2 = gradient_descent(X_train, Y_train, alpha=0.1, iterations=500)\n"
   ]
  },
  {
   "cell_type": "code",
   "execution_count": 15,
   "id": "9c554cfe-fb5b-45c6-8589-6d63c7c6d0bf",
   "metadata": {},
   "outputs": [
    {
     "name": "stdout",
     "output_type": "stream",
     "text": [
      "Prediction: 4, Label: 4\n"
     ]
    },
    {
     "data": {
      "image/png": "[encoded data removed]",
      "text/plain": [
       "<Figure size 640x480 with 1 Axes>"
      ]
     },
     "metadata": {},
     "output_type": "display_data"
    },
    {
     "name": "stdout",
     "output_type": "stream",
     "text": [
      "Prediction: 9, Label: 4\n"
     ]
    },
    {
     "data": {
      "image/png": "[encoded data removed]",
      "text/plain": [
       "<Figure size 640x480 with 1 Axes>"
      ]
     },
     "metadata": {},
     "output_type": "display_data"
    },
    {
     "name": "stdout",
     "output_type": "stream",
     "text": [
      "Prediction: 1, Label: 1\n"
     ]
    },
    {
     "data": {
      "image/png": "[encoded data removed]",
      "text/plain": [
       "<Figure size 640x480 with 1 Axes>"
      ]
     },
     "metadata": {},
     "output_type": "display_data"
    },
    {
     "name": "stdout",
     "output_type": "stream",
     "text": [
      "Prediction: 4, Label: 4\n"
     ]
    },
    {
     "data": {
      "image/png": "[encoded data removed]",
      "text/plain": [
       "<Figure size 640x480 with 1 Axes>"
      ]
     },
     "metadata": {},
     "output_type": "display_data"
    }
   ],
   "source": [
    "\n",
    "# ==========================\n",
    "# Testing / Visualization\n",
    "# ==========================\n",
    "def test_prediction(index, X=X_train, Y=Y_train):\n",
    "    image = X[:, index].reshape(-1,1)\n",
    "    pred = get_predictions(forward_prop(W1, b1, W2, b2, image)[3])\n",
    "    label = Y[index]\n",
    "    print(f\"Prediction: {pred[0]}, Label: {label}\")\n",
    "    \n",
    "    plt.imshow(image.reshape(28,28), cmap='gray')\n",
    "    plt.show()\n",
    "\n",
    "# Example tests\n",
    "for i in range(4):\n",
    "    test_prediction(i)\n"
   ]
  },
  {
   "cell_type": "code",
   "execution_count": 16,
   "id": "430571ad-d668-4e30-af52-bdb2526d2d0b",
   "metadata": {},
   "outputs": [
    {
     "name": "stdout",
     "output_type": "stream",
     "text": [
      "Development Set Accuracy: 0.903\n"
     ]
    }
   ],
   "source": [
    "\n",
    "# ==========================\n",
    "# Dev Set Evaluation\n",
    "# ==========================\n",
    "dev_preds = get_predictions(forward_prop(W1, b1, W2, b2, X_dev)[3])\n",
    "print(\"Development Set Accuracy:\", get_accuracy(dev_preds, Y_dev))\n"
   ]
  },
  {
   "cell_type": "markdown",
   "id": "9e8337f0-f46b-4e2d-9951-02f169de0565",
   "metadata": {},
   "source": [
    "# Project Summary\n",
    "\n",
    "## Model Performance\n",
    "\n",
    "- The neural network was trained from scratch using **NumPy** on a MNIST-style dataset.\n",
    "- The network architecture includes:\n",
    "  - Input layer: 784 neurons (28x28 pixels)\n",
    "  - Hidden layer: 10 neurons with **ReLU** activation\n",
    "  - Output layer: 10 neurons with **Softmax** activation for multi-class classification\n",
    "- **Training results**:\n",
    "  - Final training accuracy (approx.): 89.9%\n",
    "  - Development set accuracy: 90.3%\n",
    "- The model demonstrates effective learning from the dataset and achieves high accuracy on unseen data.\n",
    "\n",
    "## Key Observations\n",
    "\n",
    "- Accuracy gradually improves over iterations, stabilizing around ~90% on the dev set.\n",
    "- Using proper weight initialization and learning rate significantly impacts convergence.\n",
    "- Visual inspection of sample predictions shows correct classification for most images.\n",
    "\n",
    "## Conclusion\n",
    "\n",
    "This project successfully implements a simple neural network from scratch, demonstrating core principles of forward propagation, backpropagation, gradient descent, and multi-class classification. The results validate the effectiveness of the approach without using high-level frameworks like TensorFlow or PyTorch.\n"
   ]
  },
  {
   "cell_type": "code",
   "execution_count": null,
   "id": "e38263b8-1561-4f03-8233-fbd10079603d",
   "metadata": {},
   "outputs": [],
   "source": []
  }
 ],
 "metadata": {
  "kernelspec": {
   "display_name": "Python 3 (ipykernel)",
   "language": "python",
   "name": "python3"
  },
  "language_info": {
   "codemirror_mode": {
    "name": "ipython",
    "version": 3
   },
   "file_extension": ".py",
   "mimetype": "text/x-python",
   "name": "python",
   "nbconvert_exporter": "python",
   "pygments_lexer": "ipython3",
   "version": "3.12.4"
  }
 },
 "nbformat": 4,
 "nbformat_minor": 5
}
